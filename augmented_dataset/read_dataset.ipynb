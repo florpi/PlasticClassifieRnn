{
 "cells": [
  {
   "cell_type": "code",
   "execution_count": null,
   "metadata": {},
   "outputs": [],
   "source": [
    "import pandas as pd\n",
    "import swifter # To parallelise pandas operations\n",
    "import h5py\n",
    "import sys\n",
    "sys.path.append('../../pyriodogram/')\n",
    "import ndft_features as ndft\n",
    "import tensorflow as tf\n",
    "import os\n",
    "import numpy as np\n",
    "import collections"
   ]
  },
  {
   "cell_type": "markdown",
   "metadata": {},
   "source": [
    "# Read augmented dataset"
   ]
  },
  {
   "cell_type": "code",
   "execution_count": 5,
   "metadata": {},
   "outputs": [],
   "source": [
    "flux_data = pd.read_hdf('./kyle_final_augment.h5', 'df')\n",
    "meta_data = pd.read_hdf('./kyle_final_augment.h5', 'meta')"
   ]
  },
  {
   "cell_type": "code",
   "execution_count": 6,
   "metadata": {},
   "outputs": [],
   "source": [
    "flux_data = flux_data.astype({'object_id':float, 'mjd':float,\n",
    "                              'passband':int, 'flux': float,\n",
    "                             'flux_err':float, 'detected':int})"
   ]
  },
  {
   "cell_type": "code",
   "execution_count": 7,
   "metadata": {},
   "outputs": [],
   "source": [
    "meta_data = meta_data.astype({'object_id':float, 'ra':float, 'decl':float,\n",
    "                             'gal_l':float, 'gal_b':float, 'ddf':int,\n",
    "                             'hostgal_specz':float, 'hostgal_photoz':float,\n",
    "                             'hostgal_photoz_err':float,'distmod':float,\n",
    "                             'mwebv':float, 'target':int,'fold':int})"
   ]
  },
  {
   "cell_type": "markdown",
   "metadata": {},
   "source": [
    "# Group and rename dynamic features"
   ]
  },
  {
   "cell_type": "code",
   "execution_count": 8,
   "metadata": {},
   "outputs": [],
   "source": [
    "def reduce_arrays(df):\n",
    "    df = df.sort_values('mjd')\n",
    "    return df['mjd'].values, df['flux'].values,df['flux_err'].values, df['detected'].values"
   ]
  },
  {
   "cell_type": "code",
   "execution_count": 9,
   "metadata": {},
   "outputs": [],
   "source": [
    "df_dynfeat = flux_data.groupby(['object_id',\n",
    "                                'passband']).apply(reduce_arrays)\n",
    "df_dynfeat = pd.DataFrame(df_dynfeat)"
   ]
  },
  {
   "cell_type": "code",
   "execution_count": 10,
   "metadata": {},
   "outputs": [],
   "source": [
    "def name_cols(ds):\n",
    "    mjd, flux, flux_err, detected = ds[0]\n",
    "    return pd.Series({'object_id': ds['object_id'],'passband':ds['passband'] ,\n",
    "                      'mjd': mjd, 'flux': flux, 'flux_err': flux_err,\n",
    "                    'detected': detected})\n",
    "    "
   ]
  },
  {
   "cell_type": "code",
   "execution_count": 11,
   "metadata": {},
   "outputs": [
    {
     "name": "stderr",
     "output_type": "stream",
     "text": [
      "Pandas Apply: 100%|██████████| 1626846/1626846 [10:27<00:00, 2592.78it/s]\n"
     ]
    }
   ],
   "source": [
    "df_dynfeat = df_dynfeat.reset_index().swifter.apply(name_cols, axis=1)"
   ]
  },
  {
   "cell_type": "markdown",
   "metadata": {},
   "source": [
    "# Obtain Fourier features"
   ]
  },
  {
   "cell_type": "code",
   "execution_count": 9,
   "metadata": {},
   "outputs": [],
   "source": [
    "def extract_fourier_feats(ds):\n",
    "    freqs, mag, phase, Pn, proba = ndft.extract(ds['mjd'],\n",
    "                            ds['flux'], oversampling = 4, tolerance = 1e-5)\n",
    "    ds['freqs'] = freqs\n",
    "    ds['mag'] = mag\n",
    "    ds['phase'] = phase\n",
    "    ds['period'] = Pn\n",
    "    ds['proba'] = proba\n",
    "    return ds"
   ]
  },
  {
   "cell_type": "code",
   "execution_count": null,
   "metadata": {
    "scrolled": true
   },
   "outputs": [
    {
     "name": "stderr",
     "output_type": "stream",
     "text": [
      "../pyriodogram/ndft_features.py:87: RuntimeWarning: overflow encountered in power\n",
      "  proba = np.power(Ix, effm)\n",
      "../pyriodogram/ndft_features.py:86: RuntimeWarning: invalid value encountered in power\n",
      "  Ix = 1. - np.power(1 - 2 * Pn / n, 0.5 * (n - 3))\n",
      "Pandas Apply:   2%|▏         | 34209/1626846 [05:02<2:59:00, 148.29it/s]../pyriodogram/ndft_features.py:119: RuntimeWarning: divide by zero encountered in double_scalars\n",
      "  df = 1.0 / (oversampling * (t[-1] - t[0]))\n",
      "../pyriodogram/ndft_features.py:28: RuntimeWarning: invalid value encountered in true_divide\n",
      "  return 2 * k * (t - tmin) / trange - k\n",
      "/home/florpi/.conda/envs/plasticc/lib/python3.6/site-packages/numpy/core/fromnumeric.py:3194: RuntimeWarning: Degrees of freedom <= 0 for slice\n",
      "  **kwargs)\n",
      "/home/florpi/.conda/envs/plasticc/lib/python3.6/site-packages/numpy/core/_methods.py:127: RuntimeWarning: invalid value encountered in double_scalars\n",
      "  ret = ret.dtype.type(ret / rcount)\n",
      "Pandas Apply:  95%|█████████▍| 1543399/1626846 [3:06:17<08:49, 157.46it/s]   "
     ]
    }
   ],
   "source": [
    "\n",
    "df_dynfeat = df_dynfeat.swifter.apply(extract_fourier_feats, axis=1)"
   ]
  },
  {
   "cell_type": "code",
   "execution_count": null,
   "metadata": {},
   "outputs": [],
   "source": [
    "df = pd.merge(df_dynfeat, meta_data[['object_id','fold','target']], on='object_id', how='left')"
   ]
  },
  {
   "cell_type": "code",
   "execution_count": null,
   "metadata": {},
   "outputs": [],
   "source": [
    "df.to_pickle('todos.pkl')"
   ]
  },
  {
   "cell_type": "markdown",
   "metadata": {},
   "source": [
    "# Write to tfrecords"
   ]
  },
  {
   "cell_type": "code",
   "execution_count": null,
   "metadata": {},
   "outputs": [],
   "source": [
    "def _int64_list_feature(values):\n",
    "    \"\"\"Returns a TF-Feature of int64_list.\n",
    "\n",
    "    Args:\n",
    "      values: A scalar or list of values.\n",
    "\n",
    "    Returns:\n",
    "      A TF-Feature.\n",
    "    \"\"\"\n",
    "    # Flat numpy array (we actually need a list)\n",
    "    if isinstance(values, np.ndarray):\n",
    "        values = np.reshape(values, [-1])\n",
    "        \n",
    "    if not isinstance(values, collections.Iterable):\n",
    "        values = [values]\n",
    "\n",
    "    return tf.train.Feature(int64_list=tf.train.Int64List(value=values))\n",
    "\n",
    "def _float_list_feature(values):\n",
    "    \"\"\"Returns a TF-Feature of FloatList.\n",
    "\n",
    "    Args:\n",
    "      values: A scalar or list of values.\n",
    "\n",
    "    Returns:\n",
    "      A TF-Feature.\n",
    "    \"\"\"\n",
    "    \n",
    "    # Flat numpy array (we actually need a list)\n",
    "    if isinstance(values, np.ndarray):\n",
    "        values = np.reshape(values, [-1])\n",
    "    \n",
    "    if not isinstance(values, collections.Iterable):\n",
    "        values = [values]\n",
    "\n",
    "    return tf.train.Feature(float_list=tf.train.FloatList(value=values))\n",
    "\n",
    "\n",
    "def _bytes_list_feature(values):\n",
    "    \"\"\"Returns a TF-Feature of bytes.\n",
    "\n",
    "    Args:\n",
    "      values: A string.\n",
    "\n",
    "    Returns:\n",
    "      A TF-Feature.\n",
    "    \"\"\"\n",
    "    def norm2bytes(value):\n",
    "        return value.encode() if isinstance(value, str) and six.PY3 else value\n",
    "    \n",
    "    return tf.train.Feature(bytes_list=tf.train.BytesList(value=[norm2bytes(values)]))\n",
    "\n",
    "def row_to_tfexample(rows):\n",
    "    \"\"\"Converts band rows for one object to tf example.\n",
    "    Args:\n",
    "      rows: data frame with object data.\n",
    "    Returns:\n",
    "      tf example.\n",
    "    \"\"\"\n",
    "    NUM_BANDS = 6\n",
    "    \n",
    "    # Timeless features\n",
    "    features = {'object/id': _float_list_feature(df.iloc[0]['object_id']),\n",
    "                'object/target': _int64_list_feature(CLASSIFIER_CATEGORIES[df.iloc[0]['target']])}\n",
    "    for band in range(NUM_BANDS):\n",
    "        row = df[df['passband'] == band].iloc[0]\n",
    "        # Time dependent features by band\n",
    "        features.update({'band_%i/num_samples'%band: _int64_list_feature(len(row['detected'])),\n",
    "                         'band_%i/detected'%band: _int64_list_feature(row['detected']),\n",
    "                         'band_%i/flux'%band: _float_list_feature(row['flux']),\n",
    "                         'band_%i/flux_err'%band: _float_list_feature(row['flux_err']),\n",
    "                         'band_%i/mjd'%band: _float_list_feature(row['mjd']),\n",
    "                         'band_%i/dft/freqs'%band: _float_list_feature(row['freqs']),\n",
    "                         'band_%i/dft/mag'%band: _float_list_feature(row['mag']),\n",
    "                         'band_%i/dft/phase'%band: _float_list_feature(row['phase']),\n",
    "                         'band_%i/dft/periodogram'%band: _float_list_feature(row['period']),\n",
    "                         'band_%i/dft/proba'%band: _float_list_feature(row['proba'])})\n",
    "    return tf.train.Example(features=tf.train.Features(feature=features))\n",
    "\n",
    "def convert_subset(df, examples_per_record, output_path, fold):\n",
    "    \"\"\"Converts fold  to tf records\n",
    "    Args:\n",
    "        df: pandas dataframe,\n",
    "        examples_per_record: number of samples saved in one tf record,\n",
    "        output_path: path to save tf records,\n",
    "        fold: cross validation fold.\n",
    "                \n",
    "    \n",
    "    \"\"\"\n",
    "    def _get_output_filename(output_path, idx, num_files):\n",
    "        if idx is None:\n",
    "            idx = 0; num_files=0;\n",
    "        return '%s-%02d-of-%02d.tfrecord'%(output_path, idx, num_files)\n",
    "\n",
    "    if len(df) == 0:\n",
    "        print('-> %s fold is empty'%fold)\n",
    "        return\n",
    "    print('\\n-> Processing %s fold...'%fold)\n",
    "    # Initialize progress bar and counter\n",
    "    # Initialize tfrecord idx counter\n",
    "    if examples_per_record is None:\n",
    "        tfrecord_idx = None\n",
    "    else:\n",
    "        tfrecord_idx = 1\n",
    "    # tf writer\n",
    "    object_ids = df['object_id'].unique()\n",
    "\n",
    "    num_records = int(np.ceil(len(object_ids)/examples_per_record)) \n",
    "    print(_get_output_filename(output_path, tfrecord_idx, num_records))\n",
    "    writer = tf.python_io.TFRecordWriter(_get_output_filename(output_path, tfrecord_idx,\n",
    "                                                              num_records))\n",
    "                 \n",
    "             \n",
    "    df = df.set_index('object_id')\n",
    "    idx = 1\n",
    "    progress = tf.keras.utils.Progbar(len(object_ids), interval=0.05)\n",
    "\n",
    "    for object_id in object_ids:\n",
    "        rows = df.loc[object_id]\n",
    "        # Prepare example\n",
    "        example = row_to_tfexample(rows)\n",
    "        writer.write(example.SerializeToString())\n",
    "        progress.update(idx)\n",
    "        if examples_per_record is not None and idx%examples_per_record==0:\n",
    "            # Close current writer and set a new one into a new file\n",
    "            tfrecord_idx += 1\n",
    "            writer.close()\n",
    "            writer = tf.python_io.TFRecordWriter(_get_output_filename(output_path, \n",
    "                                                                      tfrecord_idx, num_records))\n",
    "        idx += 1\n",
    "    writer.close()"
   ]
  },
  {
   "cell_type": "code",
   "execution_count": null,
   "metadata": {},
   "outputs": [],
   "source": [
    "# Save dataset descriptors\n",
    "TFRECORDS_DIR = 'records/total/'\n",
    "EXAMPLES_PER_RECORD = 5\n",
    "PLASTICC_CATEGORIES = [6, 15 ,16 ,42 ,52 ,53 ,62 ,64 ,65 ,67 ,88 ,90 ,92 ,95 ,99]\n",
    "CLASSIFIER_CATEGORIES = {cat:idx for idx, cat in enumerate(PLASTICC_CATEGORIES)}\n",
    "NUM_BANDS = 6\n",
    "Nfolds = df['fold'].unique()\n",
    "for i in Nfolds: \n",
    "    if not os.path.exists(os.path.dirname(TFRECORDS_DIR)):\n",
    "        try:\n",
    "            os.makedirs(os.path.dirname(TFRECORDS_DIR))\n",
    "        except OSError as exc: # Guard against race condition\n",
    "            if exc.errno != errno.EEXIST:\n",
    "                raise\n",
    "\n",
    "    convert_subset(df[df['fold'] == i], EXAMPLES_PER_RECORD, \n",
    "                   TFRECORDS_DIR + 'fold_%02d_of_%02d'%(i,len(Nfolds)),i )\n"
   ]
  },
  {
   "cell_type": "markdown",
   "metadata": {},
   "source": [
    "## Test tfrecords"
   ]
  },
  {
   "cell_type": "code",
   "execution_count": 61,
   "metadata": {},
   "outputs": [],
   "source": [
    "import glob\n",
    "records = glob.glob(TFRECORDS_DIR + 'fold_*.tfrecord')\n",
    "for example in tf.python_io.tf_record_iterator(records[0]):\n",
    "    result = tf.train.Example.FromString(example)\n",
    "    break"
   ]
  },
  {
   "cell_type": "markdown",
   "metadata": {},
   "source": [
    "# Create metadata"
   ]
  },
  {
   "cell_type": "code",
   "execution_count": null,
   "metadata": {},
   "outputs": [],
   "source": [
    " metadatas = []\n",
    "for i in range(n_folds):\n",
    "    class_frequency = folds_train[i]['target'].value_counts(normalize=True)\n",
    "    plasticc_class_weights = (1/(class_frequency)).to_dict()\n",
    "    classifier_class_weights = {CLASSIFIER_CATEGORIES[k]:v for k, v in plasticc_class_weights.items()}\n",
    "    classifier_class_weights_sorted_list = [v for k, v in sorted(classifier_class_weights.items())]\n",
    "    metadatas.append({'train_objects':folds_train[i]['object_id'].tolist(),\n",
    "            'val_objects':folds_val[i]['object_id'].tolist(),\n",
    "            'train_class_weights':classifier_class_weights,\n",
    "            'train_class_weights_sorted_list':classifier_class_weights_sorted_list,\n",
    "            'train_stats':[]})#folds_train_dft_stats[i]})"
   ]
  }
 ],
 "metadata": {
  "kernelspec": {
   "display_name": "Python 3",
   "language": "python",
   "name": "python3"
  },
  "language_info": {
   "codemirror_mode": {
    "name": "ipython",
    "version": 3
   },
   "file_extension": ".py",
   "mimetype": "text/x-python",
   "name": "python",
   "nbconvert_exporter": "python",
   "pygments_lexer": "ipython3",
   "version": "3.6.7"
  }
 },
 "nbformat": 4,
 "nbformat_minor": 2
}
